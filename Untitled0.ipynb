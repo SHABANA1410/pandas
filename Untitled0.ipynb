{
  "cells": [
    {
      "cell_type": "markdown",
      "metadata": {
        "id": "zdhxSMh2wadE"
      },
      "source": [
        "# ***Sales Analysis***"
      ]
    },
    {
      "cell_type": "markdown",
      "metadata": {
        "id": "v393-333Y-Ys"
      },
      "source": []
    },
    {
      "cell_type": "markdown",
      "metadata": {
        "id": "B6ISZ5NQWIm2"
      },
      "source": [
        "# **1. How do you read this dataset using Pandas?**"
      ]
    },
    {
      "cell_type": "code",
      "execution_count": 20,
      "metadata": {
        "id": "z-c0DMq_8Yta"
      },
      "outputs": [],
      "source": [
        "#import pandas as pd\n",
        "#df = pd.read_csv(\"Sales.csv\")\n",
        "#print(df)\n"
      ]
    },
    {
      "cell_type": "markdown",
      "metadata": {
        "id": "jxeUZHzsXZrr"
      },
      "source": [
        "# New Section"
      ]
    },
    {
      "cell_type": "markdown",
      "metadata": {
        "id": "_Ukx2j32Yk5y"
      },
      "source": [
        "# **2. Show the first 5 rows of the dataset.**"
      ]
    },
    {
      "cell_type": "code",
      "execution_count": 21,
      "metadata": {
        "id": "Xa4H7uel-FMs"
      },
      "outputs": [],
      "source": [
        "#df.head()"
      ]
    },
    {
      "cell_type": "markdown",
      "metadata": {
        "id": "5CshKWIVZQa_"
      },
      "source": [
        "# **3. Display the column names and data types.**"
      ]
    },
    {
      "cell_type": "code",
      "execution_count": 22,
      "metadata": {
        "id": "0CBFdpJ_ZX63"
      },
      "outputs": [],
      "source": [
        "#df.columns"
      ]
    },
    {
      "cell_type": "code",
      "execution_count": 23,
      "metadata": {
        "id": "3PwkEa2JaFsy"
      },
      "outputs": [],
      "source": [
        "#df.dtypes"
      ]
    },
    {
      "cell_type": "markdown",
      "metadata": {
        "id": "1ZnmT3-9a03z"
      },
      "source": [
        "# ***Basic Statistics and Information***"
      ]
    },
    {
      "cell_type": "code",
      "execution_count": 24,
      "metadata": {
        "id": "WODFFFOvc5n-"
      },
      "outputs": [],
      "source": [
        "#df.describe()"
      ]
    },
    {
      "cell_type": "markdown",
      "metadata": {
        "id": "mXBtUb1Aa5Ry"
      },
      "source": [
        "# **4. What is the total number of rows and columns?**"
      ]
    },
    {
      "cell_type": "code",
      "execution_count": 25,
      "metadata": {
        "id": "sT_SOvNWbBYU"
      },
      "outputs": [],
      "source": [
        "#len(df.columns)"
      ]
    },
    {
      "cell_type": "code",
      "execution_count": 26,
      "metadata": {
        "id": "4blFpFudbW4B"
      },
      "outputs": [],
      "source": [
        "#len(df)"
      ]
    },
    {
      "cell_type": "code",
      "execution_count": 27,
      "metadata": {
        "id": "ffA13I9_-ZmT"
      },
      "outputs": [],
      "source": [
        "#df.info()"
      ]
    },
    {
      "cell_type": "code",
      "execution_count": 28,
      "metadata": {
        "id": "NjtCw-JfcxXs"
      },
      "outputs": [],
      "source": [
        "#df.shape"
      ]
    },
    {
      "cell_type": "markdown",
      "metadata": {
        "id": "SM_renDsbtRI"
      },
      "source": [
        "# **5. How many unique products were sold?**"
      ]
    },
    {
      "cell_type": "code",
      "execution_count": 29,
      "metadata": {
        "id": "pGtSrkxPdTuO"
      },
      "outputs": [],
      "source": [
        "#df['Product'].unique()"
      ]
    },
    {
      "cell_type": "markdown",
      "metadata": {
        "id": "gWjG7STLcIHa"
      },
      "source": [
        "# **6. What are the different types of Purchase Type?**"
      ]
    },
    {
      "cell_type": "code",
      "execution_count": 30,
      "metadata": {
        "id": "lMup1lXtcEmi"
      },
      "outputs": [],
      "source": [
        "#df['Purchase Type'].unique()"
      ]
    },
    {
      "cell_type": "markdown",
      "metadata": {
        "id": "sQzNPrAIeyKE"
      },
      "source": [
        "# **7. Count the number of unique cities in the dataset.**"
      ]
    },
    {
      "cell_type": "code",
      "execution_count": 12,
      "metadata": {
        "id": "rttbTmKVe4A0"
      },
      "outputs": [],
      "source": [
        "#df['City'].nunique()"
      ]
    },
    {
      "cell_type": "markdown",
      "metadata": {
        "id": "Vno7SAXxfJu2"
      },
      "source": [
        "#* Data Filtering*"
      ]
    },
    {
      "cell_type": "markdown",
      "metadata": {
        "id": "DcU5ALsqgFMa"
      },
      "source": [
        "# **8. How do you filter the rows where City is \"Mumbai\"?**"
      ]
    },
    {
      "cell_type": "code",
      "execution_count": 13,
      "metadata": {
        "id": "DTutGpiBfNIZ"
      },
      "outputs": [],
      "source": [
        "#df[df['City'] == 'Mumbai']\n"
      ]
    },
    {
      "cell_type": "markdown",
      "metadata": {
        "id": "_lcx1OYEgt3y"
      },
      "source": [
        "\n",
        "# **9.Display all rows where Payment Method is \"Cash\" and Price is greater than 500.**"
      ]
    },
    {
      "cell_type": "code",
      "execution_count": 14,
      "metadata": {
        "id": "cIOgqyJLg0ou"
      },
      "outputs": [],
      "source": [
        "#df[(df['Payment Method'] == 'Cash') & (df['Price'] > 500)]\n"
      ]
    },
    {
      "cell_type": "markdown",
      "metadata": {
        "id": "-9l32FaWhh7n"
      },
      "source": [
        "# Sorting"
      ]
    },
    {
      "cell_type": "markdown",
      "metadata": {
        "id": "c23DDAoVhm-L"
      },
      "source": [
        "# **10. Sort the dataset by Price in descending order.**"
      ]
    },
    {
      "cell_type": "code",
      "execution_count": 15,
      "metadata": {
        "id": "eelFT4hThtUS"
      },
      "outputs": [],
      "source": [
        "#sorted_by_price = df.sort_values(by='price', ascending=False)\n",
        "#sorted_by_price"
      ]
    },
    {
      "cell_type": "markdown",
      "metadata": {
        "id": "c4YhpUFhh37V"
      },
      "source": [
        "# **11. Sort by Date and then by City.**"
      ]
    },
    {
      "cell_type": "code",
      "execution_count": 16,
      "metadata": {
        "id": "wYgTf5iSh-aF"
      },
      "outputs": [],
      "source": [
        "#sorted_by_date_city = df.sort_values(by=['Date', 'City'])\n",
        "#sorted_by_date_city"
      ]
    },
    {
      "cell_type": "markdown",
      "metadata": {
        "id": "OFSZ4ehnagSa"
      },
      "source": []
    },
    {
      "cell_type": "markdown",
      "metadata": {
        "id": "rI63tg8bag_o"
      },
      "source": []
    },
    {
      "cell_type": "markdown",
      "metadata": {
        "id": "TXEIvOpzaho0"
      },
      "source": []
    },
    {
      "cell_type": "markdown",
      "metadata": {
        "id": "v4sF6tstX394"
      },
      "source": [
        "# ***Intermediate Level Questions GroupBy and Aggregation***"
      ]
    },
    {
      "cell_type": "markdown",
      "metadata": {
        "id": "f9ozX2zmgEH_"
      },
      "source": []
    },
    {
      "cell_type": "markdown",
      "metadata": {
        "id": "DhqsxpUtYpW-"
      },
      "source": [
        "# **1. What is the average price of products sold in each city?**"
      ]
    },
    {
      "cell_type": "code",
      "execution_count": 17,
      "metadata": {
        "colab": {
          "base_uri": "https://localhost:8080/",
          "height": 211
        },
        "id": "_oS-OmoicIue",
        "outputId": "39fdd7fc-87e8-42a5-8645-622df26065a8"
      },
      "outputs": [
        {
          "output_type": "error",
          "ename": "NameError",
          "evalue": "name 'df' is not defined",
          "traceback": [
            "\u001b[0;31m---------------------------------------------------------------------------\u001b[0m",
            "\u001b[0;31mNameError\u001b[0m                                 Traceback (most recent call last)",
            "\u001b[0;32m/tmp/ipython-input-609185505.py\u001b[0m in \u001b[0;36m<cell line: 0>\u001b[0;34m()\u001b[0m\n\u001b[1;32m      1\u001b[0m \u001b[0;31m# Total quantity sold for each product\u001b[0m\u001b[0;34m\u001b[0m\u001b[0;34m\u001b[0m\u001b[0m\n\u001b[0;32m----> 2\u001b[0;31m \u001b[0mdf\u001b[0m\u001b[0;34m.\u001b[0m\u001b[0mgroupby\u001b[0m\u001b[0;34m(\u001b[0m\u001b[0;34m'Product'\u001b[0m\u001b[0;34m)\u001b[0m\u001b[0;34m[\u001b[0m\u001b[0;34m'Quantity'\u001b[0m\u001b[0;34m]\u001b[0m\u001b[0;34m.\u001b[0m\u001b[0msum\u001b[0m\u001b[0;34m(\u001b[0m\u001b[0;34m)\u001b[0m\u001b[0;34m\u001b[0m\u001b[0;34m\u001b[0m\u001b[0m\n\u001b[0m\u001b[1;32m      3\u001b[0m \u001b[0;34m\u001b[0m\u001b[0m\n\u001b[1;32m      4\u001b[0m \u001b[0;31m# Average price of products sold in each city\u001b[0m\u001b[0;34m\u001b[0m\u001b[0;34m\u001b[0m\u001b[0m\n\u001b[1;32m      5\u001b[0m \u001b[0mdf\u001b[0m\u001b[0;34m.\u001b[0m\u001b[0mgroupby\u001b[0m\u001b[0;34m(\u001b[0m\u001b[0;34m'City'\u001b[0m\u001b[0;34m)\u001b[0m\u001b[0;34m[\u001b[0m\u001b[0;34m'Price'\u001b[0m\u001b[0;34m]\u001b[0m\u001b[0;34m.\u001b[0m\u001b[0mmean\u001b[0m\u001b[0;34m(\u001b[0m\u001b[0;34m)\u001b[0m\u001b[0;34m\u001b[0m\u001b[0;34m\u001b[0m\u001b[0m\n",
            "\u001b[0;31mNameError\u001b[0m: name 'df' is not defined"
          ]
        }
      ],
      "source": [
        "# Total quantity sold for each product\n",
        "df.groupby('Product')['Quantity'].sum()\n",
        "\n",
        "# Average price of products sold in each city\n",
        "df.groupby('City')['Price'].mean()\n",
        "\n",
        "# Total sales (Price * Quantity) per Manager\n",
        "df['Total_Sale'] = df['Price'] * df['Quantity']\n",
        "df.groupby('Manager')['Total_Sale'].sum()"
      ]
    },
    {
      "cell_type": "markdown",
      "metadata": {
        "id": "8riCUKTMY2NV"
      },
      "source": [
        "# 2.Find the total sales (Price * Quantity) per Manager."
      ]
    },
    {
      "cell_type": "markdown",
      "metadata": {
        "id": "FiQQL9o5Y498"
      },
      "source": [
        "# ***New Columns and Transformation***"
      ]
    },
    {
      "cell_type": "markdown",
      "metadata": {
        "id": "1mw0g2HjY8in"
      },
      "source": [
        "# 3. Create a new column called Total Sale which is Price * Quantity."
      ]
    },
    {
      "cell_type": "markdown",
      "metadata": {
        "id": "mlrq7tlQZRFj"
      },
      "source": [
        "# **4. Extract the month from the Date column and create a new column called Month.**"
      ]
    },
    {
      "cell_type": "markdown",
      "metadata": {
        "id": "9bm-s0HVZUSH"
      },
      "source": [
        "# **Value Counts and Unique**"
      ]
    },
    {
      "cell_type": "markdown",
      "metadata": {
        "id": "cuyl4SKKZYRg"
      },
      "source": [
        "# 5. Find the most common payment method."
      ]
    },
    {
      "cell_type": "markdown",
      "metadata": {
        "id": "sgra09UNZdIH"
      },
      "source": [
        "# 6. How many times was each product sold?"
      ]
    },
    {
      "cell_type": "markdown",
      "metadata": {
        "id": "I3_rm59DZgTj"
      },
      "source": [
        "# **Boolean Indexing**"
      ]
    },
    {
      "cell_type": "markdown",
      "metadata": {
        "id": "JVXAUtc2ZjKe"
      },
      "source": [
        "# 7. Find all orders made with a Quantity greater than 5 and a Purchase Type of \"Online\""
      ]
    },
    {
      "cell_type": "markdown",
      "metadata": {
        "id": "XbixoXyxam2Y"
      },
      "source": []
    },
    {
      "cell_type": "markdown",
      "metadata": {
        "id": "LK0PS3jMamM_"
      },
      "source": []
    },
    {
      "cell_type": "markdown",
      "metadata": {
        "id": "bRUuE9N_al9t"
      },
      "source": []
    },
    {
      "cell_type": "markdown",
      "metadata": {
        "id": "YQt5BfeQPKFY"
      },
      "source": [
        "# ***Airlines Flights Data Analysis***"
      ]
    },
    {
      "cell_type": "code",
      "execution_count": null,
      "metadata": {
        "id": "e4scoGboNyeM"
      },
      "outputs": [],
      "source": [
        "import pandas as pd\n",
        "df = pd.read_csv(\"airlines_flights_data.csv\")\n",
        "print(df)\n"
      ]
    },
    {
      "cell_type": "markdown",
      "metadata": {
        "id": "ryp_IYBuPuLa"
      },
      "source": [
        "# **1. How many unique airlines are in the dataset?**"
      ]
    },
    {
      "cell_type": "code",
      "execution_count": null,
      "metadata": {
        "id": "9rq-zYYeQORZ"
      },
      "outputs": [],
      "source": [
        "unique_airlines = df['airline'].nunique()\n",
        "print(f\"Number of unique airlines: {unique_airlines}\")"
      ]
    },
    {
      "cell_type": "markdown",
      "metadata": {
        "id": "cKHPiOLGQo0e"
      },
      "source": [
        "# **2.  Which source city has the most flights?**"
      ]
    },
    {
      "cell_type": "code",
      "execution_count": null,
      "metadata": {
        "id": "dCBGFsimQs8x"
      },
      "outputs": [],
      "source": [
        "busiest_source = df['source_city'].value_counts().idxmax()\n",
        "print(f\"Busiest source city: {busiest_source}\")"
      ]
    },
    {
      "cell_type": "markdown",
      "metadata": {
        "id": "uUpMo2vKRFGG"
      },
      "source": [
        "# **3. Filter all flights that depart in the evening.**"
      ]
    },
    {
      "cell_type": "code",
      "execution_count": null,
      "metadata": {
        "id": "EZQ0sOMfRLEg"
      },
      "outputs": [],
      "source": [
        "evening_flights = df[df['departure_time'] == 'Evening']\n",
        "print(evening_flights.head())"
      ]
    },
    {
      "cell_type": "markdown",
      "metadata": {
        "id": "8jaNbhGoRUzr"
      },
      "source": [
        "# **4. What is the average price of flights with non stop travel? **"
      ]
    },
    {
      "cell_type": "code",
      "execution_count": null,
      "metadata": {
        "id": "2_HlR6-mRkjY"
      },
      "outputs": [],
      "source": [
        "non_stop_avg_price = df[df['stops'] == 'zero']['price'].mean()\n",
        "print(f\"Average price of non-stop flights: ₹{non_stop_avg_price:.2f}\")"
      ]
    },
    {
      "cell_type": "markdown",
      "metadata": {
        "id": "-mimHTAARwLr"
      },
      "source": [
        "# **5. Add a new column for price per hour of flight.**"
      ]
    },
    {
      "cell_type": "code",
      "execution_count": null,
      "metadata": {
        "id": "hNQ4GXieR4t_"
      },
      "outputs": [],
      "source": [
        "df['Price per Hour'] = df['price'] / df['duration']\n",
        "print(df[['price', 'duration', 'Price per Hour']].head())"
      ]
    },
    {
      "cell_type": "markdown",
      "metadata": {
        "id": "b0P2HVi2SFm3"
      },
      "source": [
        "# **6. Group average price by class (Economy vs Business)**"
      ]
    },
    {
      "cell_type": "code",
      "execution_count": 18,
      "metadata": {
        "colab": {
          "base_uri": "https://localhost:8080/",
          "height": 158
        },
        "id": "NpETVQNYSYKs",
        "outputId": "c45cc18e-5cda-4443-d7d0-ce904539b8fe"
      },
      "outputs": [
        {
          "output_type": "error",
          "ename": "NameError",
          "evalue": "name 'df' is not defined",
          "traceback": [
            "\u001b[0;31m---------------------------------------------------------------------------\u001b[0m",
            "\u001b[0;31mNameError\u001b[0m                                 Traceback (most recent call last)",
            "\u001b[0;32m/tmp/ipython-input-1339881012.py\u001b[0m in \u001b[0;36m<cell line: 0>\u001b[0;34m()\u001b[0m\n\u001b[0;32m----> 1\u001b[0;31m \u001b[0mavg_price_by_class\u001b[0m \u001b[0;34m=\u001b[0m \u001b[0mdf\u001b[0m\u001b[0;34m.\u001b[0m\u001b[0mgroupby\u001b[0m\u001b[0;34m(\u001b[0m\u001b[0;34m'class'\u001b[0m\u001b[0;34m)\u001b[0m\u001b[0;34m[\u001b[0m\u001b[0;34m'price'\u001b[0m\u001b[0;34m]\u001b[0m\u001b[0;34m.\u001b[0m\u001b[0mmean\u001b[0m\u001b[0;34m(\u001b[0m\u001b[0;34m)\u001b[0m\u001b[0;34m\u001b[0m\u001b[0;34m\u001b[0m\u001b[0m\n\u001b[0m\u001b[1;32m      2\u001b[0m \u001b[0mprint\u001b[0m\u001b[0;34m(\u001b[0m\u001b[0mavg_price_by_class\u001b[0m\u001b[0;34m)\u001b[0m\u001b[0;34m\u001b[0m\u001b[0;34m\u001b[0m\u001b[0m\n",
            "\u001b[0;31mNameError\u001b[0m: name 'df' is not defined"
          ]
        }
      ],
      "source": [
        "avg_price_by_class = df.groupby('class')['price'].mean()\n",
        "print(avg_price_by_class)"
      ]
    },
    {
      "cell_type": "markdown",
      "metadata": {
        "id": "DD_6gFrjSvb6"
      },
      "source": []
    },
    {
      "cell_type": "markdown",
      "metadata": {
        "id": "koEk_b7hTAPj"
      },
      "source": [
        "# **7. Sort flights by days left in ascending order.**"
      ]
    },
    {
      "cell_type": "code",
      "execution_count": null,
      "metadata": {
        "id": "wNNuKgxWTHZx"
      },
      "outputs": [],
      "source": [
        "sorted_by_days_left = df.sort_values(by='days_left')\n",
        "print(sorted_by_days_left[['airline', 'days_left', 'price']].head())"
      ]
    },
    {
      "cell_type": "markdown",
      "metadata": {
        "id": "VVqXStbMTYrJ"
      },
      "source": [
        "#  8. Count how many flights go to each destination city."
      ]
    },
    {
      "cell_type": "code",
      "execution_count": 19,
      "metadata": {
        "colab": {
          "base_uri": "https://localhost:8080/",
          "height": 158
        },
        "id": "JOK3B7I6Tn9u",
        "outputId": "c9496626-4745-4c0a-b0ce-1ef1fc17cc27"
      },
      "outputs": [
        {
          "output_type": "error",
          "ename": "NameError",
          "evalue": "name 'df' is not defined",
          "traceback": [
            "\u001b[0;31m---------------------------------------------------------------------------\u001b[0m",
            "\u001b[0;31mNameError\u001b[0m                                 Traceback (most recent call last)",
            "\u001b[0;32m/tmp/ipython-input-2270893256.py\u001b[0m in \u001b[0;36m<cell line: 0>\u001b[0;34m()\u001b[0m\n\u001b[0;32m----> 1\u001b[0;31m \u001b[0mdestination_counts\u001b[0m \u001b[0;34m=\u001b[0m \u001b[0mdf\u001b[0m\u001b[0;34m[\u001b[0m\u001b[0;34m'destination_city'\u001b[0m\u001b[0;34m]\u001b[0m\u001b[0;34m.\u001b[0m\u001b[0mvalue_counts\u001b[0m\u001b[0;34m(\u001b[0m\u001b[0;34m)\u001b[0m\u001b[0;34m\u001b[0m\u001b[0;34m\u001b[0m\u001b[0m\n\u001b[0m\u001b[1;32m      2\u001b[0m \u001b[0mprint\u001b[0m\u001b[0;34m(\u001b[0m\u001b[0mdestination_counts\u001b[0m\u001b[0;34m)\u001b[0m\u001b[0;34m\u001b[0m\u001b[0;34m\u001b[0m\u001b[0m\n",
            "\u001b[0;31mNameError\u001b[0m: name 'df' is not defined"
          ]
        }
      ],
      "source": [
        "destination_counts = df['destination_city'].value_counts()\n",
        "print(destination_counts)"
      ]
    },
    {
      "cell_type": "markdown",
      "metadata": {
        "id": "XYHHJ84lT--O"
      },
      "source": [
        "# **9. Find the cheapest flight from Mumbai to Delhi.**"
      ]
    },
    {
      "cell_type": "code",
      "execution_count": null,
      "metadata": {
        "id": "ckHRdAsMUF_J"
      },
      "outputs": [],
      "source": [
        "cheapest_mum_del = df[\n",
        "    (df['source_city'] == 'Mumbai') &\n",
        "    (df['destination_city'] == 'Delhi')\n",
        "].sort_values(by='price').head(1)\n",
        "\n",
        "print(cheapest_mum_del)"
      ]
    },
    {
      "cell_type": "markdown",
      "metadata": {
        "id": "IgZCi4SrUVdF"
      },
      "source": [
        "# **10. Check if any flight has a missing value.**"
      ]
    },
    {
      "cell_type": "code",
      "execution_count": null,
      "metadata": {
        "id": "oEgw7jlSUk_i"
      },
      "outputs": [],
      "source": [
        "missing_values = df.isnull().sum()\n",
        "print(\"Missing values per column:\")\n",
        "print(missing_values)"
      ]
    }
  ],
  "metadata": {
    "colab": {
      "provenance": []
    },
    "kernelspec": {
      "display_name": "Python 3",
      "name": "python3"
    },
    "language_info": {
      "name": "python"
    }
  },
  "nbformat": 4,
  "nbformat_minor": 0
}